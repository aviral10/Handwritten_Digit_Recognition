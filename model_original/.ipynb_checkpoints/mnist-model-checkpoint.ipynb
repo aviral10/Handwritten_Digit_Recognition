{
 "cells": [
  {
   "cell_type": "markdown",
   "metadata": {},
   "source": [
    "# Training a Machine Learning model for the MNIST Handwritten digits dataset"
   ]
  },
  {
   "cell_type": "markdown",
   "metadata": {},
   "source": [
    "## 1. Introduction\n",
    "\n",
    "MNIST (\"Modified National Institute of Standards and Technology\") Handwritten Digit recogition is often regarded as the \"Hello World\" of Machine Learning. This project involvs creating a Machine Learning model using a simple Convolutional Neural Network to further enhance the capabilities of the model in recognising the Handwritten Digits. We then run and test the model on user inputs.\n",
    "\n",
    "We begin by: \n",
    "**Importing the required libraries**\n"
   ]
  },
  {
   "cell_type": "code",
   "execution_count": 1,
   "metadata": {
    "_cell_guid": "79c7e3d0-c299-4dcb-8224-4455121ee9b0",
    "_uuid": "d629ff2d2480ee46fbb7e2d37f6b5fab8052498a",
    "execution": {
     "iopub.execute_input": "2021-09-03T06:10:48.192207Z",
     "iopub.status.busy": "2021-09-03T06:10:48.191761Z",
     "iopub.status.idle": "2021-09-03T06:10:48.201103Z",
     "shell.execute_reply": "2021-09-03T06:10:48.199786Z",
     "shell.execute_reply.started": "2021-09-03T06:10:48.192169Z"
    }
   },
   "outputs": [],
   "source": [
    "import pandas as pd\n",
    "import numpy as np\n",
    "\n",
    "import matplotlib.pyplot as plt\n",
    "\n",
    "from sklearn.model_selection import train_test_split\n",
    "\n",
    "from keras.models import Sequential\n",
    "from keras.layers import Conv2D, MaxPooling2D # convolution layers\n",
    "from keras.layers import Dense, Flatten # core layers\n",
    "\n",
    "from keras.layers import BatchNormalization\n",
    "\n",
    "from keras.preprocessing.image import ImageDataGenerator\n",
    "\n",
    "from keras.utils.np_utils import to_categorical"
   ]
  },
  {
   "cell_type": "markdown",
   "metadata": {},
   "source": [
    "## 2. Data Preprocessing\n",
    "\n",
    "### 2.1 Importing the datasets\n",
    "\n",
    "I found a dataset that was already split into training set and testing set, both are subsets of the MNIST Handwritten digits dataset"
   ]
  },
  {
   "cell_type": "code",
   "execution_count": 2,
   "metadata": {
    "execution": {
     "iopub.execute_input": "2021-09-03T06:11:32.171376Z",
     "iopub.status.busy": "2021-09-03T06:11:32.171039Z",
     "iopub.status.idle": "2021-09-03T06:11:37.561108Z",
     "shell.execute_reply": "2021-09-03T06:11:37.560292Z",
     "shell.execute_reply.started": "2021-09-03T06:11:32.171345Z"
    }
   },
   "outputs": [
    {
     "name": "stdout",
     "output_type": "stream",
     "text": [
      "Data Ready\n"
     ]
    }
   ],
   "source": [
    "import os\n",
    "train = pd.read_csv('train/train.csv')\n",
    "test = pd.read_csv('test/test.csv')\n",
    "print(\"Data Ready\")"
   ]
  },
  {
   "cell_type": "code",
   "execution_count": 3,
   "metadata": {
    "execution": {
     "iopub.execute_input": "2021-09-03T06:11:39.561372Z",
     "iopub.status.busy": "2021-09-03T06:11:39.561060Z",
     "iopub.status.idle": "2021-09-03T06:11:39.565796Z",
     "shell.execute_reply": "2021-09-03T06:11:39.564949Z",
     "shell.execute_reply.started": "2021-09-03T06:11:39.561343Z"
    }
   },
   "outputs": [
    {
     "name": "stdout",
     "output_type": "stream",
     "text": [
      "Training data size is (42000, 785)\n",
      "Testing data size is (28000, 784)\n"
     ]
    }
   ],
   "source": [
    "print(f\"Training data size is {train.shape}\\nTesting data size is {test.shape}\")"
   ]
  },
  {
   "cell_type": "markdown",
   "metadata": {},
   "source": [
    "**Set data features and labels**\n"
   ]
  },
  {
   "cell_type": "code",
   "execution_count": 4,
   "metadata": {
    "execution": {
     "iopub.execute_input": "2021-09-03T06:12:23.755072Z",
     "iopub.status.busy": "2021-09-03T06:12:23.754715Z",
     "iopub.status.idle": "2021-09-03T06:12:23.783707Z",
     "shell.execute_reply": "2021-09-03T06:12:23.782883Z",
     "shell.execute_reply.started": "2021-09-03T06:12:23.755042Z"
    }
   },
   "outputs": [
    {
     "data": {
      "text/html": [
       "<div>\n",
       "<style scoped>\n",
       "    .dataframe tbody tr th:only-of-type {\n",
       "        vertical-align: middle;\n",
       "    }\n",
       "\n",
       "    .dataframe tbody tr th {\n",
       "        vertical-align: top;\n",
       "    }\n",
       "\n",
       "    .dataframe thead th {\n",
       "        text-align: right;\n",
       "    }\n",
       "</style>\n",
       "<table border=\"1\" class=\"dataframe\">\n",
       "  <thead>\n",
       "    <tr style=\"text-align: right;\">\n",
       "      <th></th>\n",
       "      <th>pixel0</th>\n",
       "      <th>pixel1</th>\n",
       "      <th>pixel2</th>\n",
       "      <th>pixel3</th>\n",
       "      <th>pixel4</th>\n",
       "      <th>pixel5</th>\n",
       "      <th>pixel6</th>\n",
       "      <th>pixel7</th>\n",
       "      <th>pixel8</th>\n",
       "      <th>pixel9</th>\n",
       "      <th>...</th>\n",
       "      <th>pixel774</th>\n",
       "      <th>pixel775</th>\n",
       "      <th>pixel776</th>\n",
       "      <th>pixel777</th>\n",
       "      <th>pixel778</th>\n",
       "      <th>pixel779</th>\n",
       "      <th>pixel780</th>\n",
       "      <th>pixel781</th>\n",
       "      <th>pixel782</th>\n",
       "      <th>pixel783</th>\n",
       "    </tr>\n",
       "  </thead>\n",
       "  <tbody>\n",
       "    <tr>\n",
       "      <th>0</th>\n",
       "      <td>0</td>\n",
       "      <td>0</td>\n",
       "      <td>0</td>\n",
       "      <td>0</td>\n",
       "      <td>0</td>\n",
       "      <td>0</td>\n",
       "      <td>0</td>\n",
       "      <td>0</td>\n",
       "      <td>0</td>\n",
       "      <td>0</td>\n",
       "      <td>...</td>\n",
       "      <td>0</td>\n",
       "      <td>0</td>\n",
       "      <td>0</td>\n",
       "      <td>0</td>\n",
       "      <td>0</td>\n",
       "      <td>0</td>\n",
       "      <td>0</td>\n",
       "      <td>0</td>\n",
       "      <td>0</td>\n",
       "      <td>0</td>\n",
       "    </tr>\n",
       "    <tr>\n",
       "      <th>1</th>\n",
       "      <td>0</td>\n",
       "      <td>0</td>\n",
       "      <td>0</td>\n",
       "      <td>0</td>\n",
       "      <td>0</td>\n",
       "      <td>0</td>\n",
       "      <td>0</td>\n",
       "      <td>0</td>\n",
       "      <td>0</td>\n",
       "      <td>0</td>\n",
       "      <td>...</td>\n",
       "      <td>0</td>\n",
       "      <td>0</td>\n",
       "      <td>0</td>\n",
       "      <td>0</td>\n",
       "      <td>0</td>\n",
       "      <td>0</td>\n",
       "      <td>0</td>\n",
       "      <td>0</td>\n",
       "      <td>0</td>\n",
       "      <td>0</td>\n",
       "    </tr>\n",
       "    <tr>\n",
       "      <th>2</th>\n",
       "      <td>0</td>\n",
       "      <td>0</td>\n",
       "      <td>0</td>\n",
       "      <td>0</td>\n",
       "      <td>0</td>\n",
       "      <td>0</td>\n",
       "      <td>0</td>\n",
       "      <td>0</td>\n",
       "      <td>0</td>\n",
       "      <td>0</td>\n",
       "      <td>...</td>\n",
       "      <td>0</td>\n",
       "      <td>0</td>\n",
       "      <td>0</td>\n",
       "      <td>0</td>\n",
       "      <td>0</td>\n",
       "      <td>0</td>\n",
       "      <td>0</td>\n",
       "      <td>0</td>\n",
       "      <td>0</td>\n",
       "      <td>0</td>\n",
       "    </tr>\n",
       "    <tr>\n",
       "      <th>3</th>\n",
       "      <td>0</td>\n",
       "      <td>0</td>\n",
       "      <td>0</td>\n",
       "      <td>0</td>\n",
       "      <td>0</td>\n",
       "      <td>0</td>\n",
       "      <td>0</td>\n",
       "      <td>0</td>\n",
       "      <td>0</td>\n",
       "      <td>0</td>\n",
       "      <td>...</td>\n",
       "      <td>0</td>\n",
       "      <td>0</td>\n",
       "      <td>0</td>\n",
       "      <td>0</td>\n",
       "      <td>0</td>\n",
       "      <td>0</td>\n",
       "      <td>0</td>\n",
       "      <td>0</td>\n",
       "      <td>0</td>\n",
       "      <td>0</td>\n",
       "    </tr>\n",
       "    <tr>\n",
       "      <th>4</th>\n",
       "      <td>0</td>\n",
       "      <td>0</td>\n",
       "      <td>0</td>\n",
       "      <td>0</td>\n",
       "      <td>0</td>\n",
       "      <td>0</td>\n",
       "      <td>0</td>\n",
       "      <td>0</td>\n",
       "      <td>0</td>\n",
       "      <td>0</td>\n",
       "      <td>...</td>\n",
       "      <td>0</td>\n",
       "      <td>0</td>\n",
       "      <td>0</td>\n",
       "      <td>0</td>\n",
       "      <td>0</td>\n",
       "      <td>0</td>\n",
       "      <td>0</td>\n",
       "      <td>0</td>\n",
       "      <td>0</td>\n",
       "      <td>0</td>\n",
       "    </tr>\n",
       "    <tr>\n",
       "      <th>...</th>\n",
       "      <td>...</td>\n",
       "      <td>...</td>\n",
       "      <td>...</td>\n",
       "      <td>...</td>\n",
       "      <td>...</td>\n",
       "      <td>...</td>\n",
       "      <td>...</td>\n",
       "      <td>...</td>\n",
       "      <td>...</td>\n",
       "      <td>...</td>\n",
       "      <td>...</td>\n",
       "      <td>...</td>\n",
       "      <td>...</td>\n",
       "      <td>...</td>\n",
       "      <td>...</td>\n",
       "      <td>...</td>\n",
       "      <td>...</td>\n",
       "      <td>...</td>\n",
       "      <td>...</td>\n",
       "      <td>...</td>\n",
       "      <td>...</td>\n",
       "    </tr>\n",
       "    <tr>\n",
       "      <th>27995</th>\n",
       "      <td>0</td>\n",
       "      <td>0</td>\n",
       "      <td>0</td>\n",
       "      <td>0</td>\n",
       "      <td>0</td>\n",
       "      <td>0</td>\n",
       "      <td>0</td>\n",
       "      <td>0</td>\n",
       "      <td>0</td>\n",
       "      <td>0</td>\n",
       "      <td>...</td>\n",
       "      <td>0</td>\n",
       "      <td>0</td>\n",
       "      <td>0</td>\n",
       "      <td>0</td>\n",
       "      <td>0</td>\n",
       "      <td>0</td>\n",
       "      <td>0</td>\n",
       "      <td>0</td>\n",
       "      <td>0</td>\n",
       "      <td>0</td>\n",
       "    </tr>\n",
       "    <tr>\n",
       "      <th>27996</th>\n",
       "      <td>0</td>\n",
       "      <td>0</td>\n",
       "      <td>0</td>\n",
       "      <td>0</td>\n",
       "      <td>0</td>\n",
       "      <td>0</td>\n",
       "      <td>0</td>\n",
       "      <td>0</td>\n",
       "      <td>0</td>\n",
       "      <td>0</td>\n",
       "      <td>...</td>\n",
       "      <td>0</td>\n",
       "      <td>0</td>\n",
       "      <td>0</td>\n",
       "      <td>0</td>\n",
       "      <td>0</td>\n",
       "      <td>0</td>\n",
       "      <td>0</td>\n",
       "      <td>0</td>\n",
       "      <td>0</td>\n",
       "      <td>0</td>\n",
       "    </tr>\n",
       "    <tr>\n",
       "      <th>27997</th>\n",
       "      <td>0</td>\n",
       "      <td>0</td>\n",
       "      <td>0</td>\n",
       "      <td>0</td>\n",
       "      <td>0</td>\n",
       "      <td>0</td>\n",
       "      <td>0</td>\n",
       "      <td>0</td>\n",
       "      <td>0</td>\n",
       "      <td>0</td>\n",
       "      <td>...</td>\n",
       "      <td>0</td>\n",
       "      <td>0</td>\n",
       "      <td>0</td>\n",
       "      <td>0</td>\n",
       "      <td>0</td>\n",
       "      <td>0</td>\n",
       "      <td>0</td>\n",
       "      <td>0</td>\n",
       "      <td>0</td>\n",
       "      <td>0</td>\n",
       "    </tr>\n",
       "    <tr>\n",
       "      <th>27998</th>\n",
       "      <td>0</td>\n",
       "      <td>0</td>\n",
       "      <td>0</td>\n",
       "      <td>0</td>\n",
       "      <td>0</td>\n",
       "      <td>0</td>\n",
       "      <td>0</td>\n",
       "      <td>0</td>\n",
       "      <td>0</td>\n",
       "      <td>0</td>\n",
       "      <td>...</td>\n",
       "      <td>0</td>\n",
       "      <td>0</td>\n",
       "      <td>0</td>\n",
       "      <td>0</td>\n",
       "      <td>0</td>\n",
       "      <td>0</td>\n",
       "      <td>0</td>\n",
       "      <td>0</td>\n",
       "      <td>0</td>\n",
       "      <td>0</td>\n",
       "    </tr>\n",
       "    <tr>\n",
       "      <th>27999</th>\n",
       "      <td>0</td>\n",
       "      <td>0</td>\n",
       "      <td>0</td>\n",
       "      <td>0</td>\n",
       "      <td>0</td>\n",
       "      <td>0</td>\n",
       "      <td>0</td>\n",
       "      <td>0</td>\n",
       "      <td>0</td>\n",
       "      <td>0</td>\n",
       "      <td>...</td>\n",
       "      <td>0</td>\n",
       "      <td>0</td>\n",
       "      <td>0</td>\n",
       "      <td>0</td>\n",
       "      <td>0</td>\n",
       "      <td>0</td>\n",
       "      <td>0</td>\n",
       "      <td>0</td>\n",
       "      <td>0</td>\n",
       "      <td>0</td>\n",
       "    </tr>\n",
       "  </tbody>\n",
       "</table>\n",
       "<p>28000 rows × 784 columns</p>\n",
       "</div>"
      ],
      "text/plain": [
       "       pixel0  pixel1  pixel2  pixel3  pixel4  pixel5  pixel6  pixel7  pixel8  \\\n",
       "0           0       0       0       0       0       0       0       0       0   \n",
       "1           0       0       0       0       0       0       0       0       0   \n",
       "2           0       0       0       0       0       0       0       0       0   \n",
       "3           0       0       0       0       0       0       0       0       0   \n",
       "4           0       0       0       0       0       0       0       0       0   \n",
       "...       ...     ...     ...     ...     ...     ...     ...     ...     ...   \n",
       "27995       0       0       0       0       0       0       0       0       0   \n",
       "27996       0       0       0       0       0       0       0       0       0   \n",
       "27997       0       0       0       0       0       0       0       0       0   \n",
       "27998       0       0       0       0       0       0       0       0       0   \n",
       "27999       0       0       0       0       0       0       0       0       0   \n",
       "\n",
       "       pixel9  ...  pixel774  pixel775  pixel776  pixel777  pixel778  \\\n",
       "0           0  ...         0         0         0         0         0   \n",
       "1           0  ...         0         0         0         0         0   \n",
       "2           0  ...         0         0         0         0         0   \n",
       "3           0  ...         0         0         0         0         0   \n",
       "4           0  ...         0         0         0         0         0   \n",
       "...       ...  ...       ...       ...       ...       ...       ...   \n",
       "27995       0  ...         0         0         0         0         0   \n",
       "27996       0  ...         0         0         0         0         0   \n",
       "27997       0  ...         0         0         0         0         0   \n",
       "27998       0  ...         0         0         0         0         0   \n",
       "27999       0  ...         0         0         0         0         0   \n",
       "\n",
       "       pixel779  pixel780  pixel781  pixel782  pixel783  \n",
       "0             0         0         0         0         0  \n",
       "1             0         0         0         0         0  \n",
       "2             0         0         0         0         0  \n",
       "3             0         0         0         0         0  \n",
       "4             0         0         0         0         0  \n",
       "...         ...       ...       ...       ...       ...  \n",
       "27995         0         0         0         0         0  \n",
       "27996         0         0         0         0         0  \n",
       "27997         0         0         0         0         0  \n",
       "27998         0         0         0         0         0  \n",
       "27999         0         0         0         0         0  \n",
       "\n",
       "[28000 rows x 784 columns]"
      ]
     },
     "execution_count": 4,
     "metadata": {},
     "output_type": "execute_result"
    }
   ],
   "source": [
    "test"
   ]
  },
  {
   "cell_type": "code",
   "execution_count": 5,
   "metadata": {
    "execution": {
     "iopub.execute_input": "2021-09-03T06:12:44.411805Z",
     "iopub.status.busy": "2021-09-03T06:12:44.411456Z",
     "iopub.status.idle": "2021-09-03T06:12:44.540669Z",
     "shell.execute_reply": "2021-09-03T06:12:44.539665Z",
     "shell.execute_reply.started": "2021-09-03T06:12:44.411774Z"
    }
   },
   "outputs": [],
   "source": [
    "X = train.drop(['label'], 1).values\n",
    "y = train['label'].values\n",
    "test_x = test.values"
   ]
  },
  {
   "cell_type": "markdown",
   "metadata": {},
   "source": [
    "### 2.2 Normalization\n",
    "We perform a grayscale normalization which reduces the time as well as avoids looking for useless details in the image"
   ]
  },
  {
   "cell_type": "code",
   "execution_count": 6,
   "metadata": {
    "execution": {
     "iopub.execute_input": "2021-09-03T06:12:46.123164Z",
     "iopub.status.busy": "2021-09-03T06:12:46.122791Z",
     "iopub.status.idle": "2021-09-03T06:12:46.282669Z",
     "shell.execute_reply": "2021-09-03T06:12:46.281910Z",
     "shell.execute_reply.started": "2021-09-03T06:12:46.123133Z"
    }
   },
   "outputs": [],
   "source": [
    "X = X / 255.0\n",
    "test_x = test_x / 255.0"
   ]
  },
  {
   "cell_type": "markdown",
   "metadata": {},
   "source": [
    "### 2.3 Reshaping\n",
    "Reshape image in 3 dimensions (height = 28px, width = 28px , canal = 1) \n",
    "\n",
    "canal = 1:  For gray scale"
   ]
  },
  {
   "cell_type": "code",
   "execution_count": 7,
   "metadata": {
    "execution": {
     "iopub.execute_input": "2021-09-03T06:12:47.449147Z",
     "iopub.status.busy": "2021-09-03T06:12:47.448667Z",
     "iopub.status.idle": "2021-09-03T06:12:47.453635Z",
     "shell.execute_reply": "2021-09-03T06:12:47.452788Z",
     "shell.execute_reply.started": "2021-09-03T06:12:47.449108Z"
    }
   },
   "outputs": [],
   "source": [
    "X = X.reshape(-1,28,28,1)\n",
    "test_x = test_x.reshape(-1,28,28,1)"
   ]
  },
  {
   "cell_type": "markdown",
   "metadata": {},
   "source": [
    "### 2.4 Label Encoding\n",
    "**Encode labels to one-hot-vectors (ex : 2 -> [0,0,1,0,0,0,0,0,0,0])**"
   ]
  },
  {
   "cell_type": "code",
   "execution_count": 8,
   "metadata": {
    "execution": {
     "iopub.execute_input": "2021-09-03T06:12:49.934661Z",
     "iopub.status.busy": "2021-09-03T06:12:49.934330Z",
     "iopub.status.idle": "2021-09-03T06:12:49.940297Z",
     "shell.execute_reply": "2021-09-03T06:12:49.939424Z",
     "shell.execute_reply.started": "2021-09-03T06:12:49.934631Z"
    }
   },
   "outputs": [],
   "source": [
    "y = to_categorical(y)"
   ]
  },
  {
   "cell_type": "markdown",
   "metadata": {},
   "source": [
    "\n",
    "### 2.5 Split training and valdiation set\n",
    "The validation set is to evaluate the performance of the model\n"
   ]
  },
  {
   "cell_type": "code",
   "execution_count": 9,
   "metadata": {
    "execution": {
     "iopub.execute_input": "2021-09-03T06:12:52.807416Z",
     "iopub.status.busy": "2021-09-03T06:12:52.807085Z",
     "iopub.status.idle": "2021-09-03T06:12:53.352959Z",
     "shell.execute_reply": "2021-09-03T06:12:53.352116Z",
     "shell.execute_reply.started": "2021-09-03T06:12:52.807386Z"
    }
   },
   "outputs": [
    {
     "data": {
      "text/plain": [
       "((37800, 28, 28, 1), (4200, 28, 28, 1), (37800, 10), (4200, 10))"
      ]
     },
     "execution_count": 9,
     "metadata": {},
     "output_type": "execute_result"
    }
   ],
   "source": [
    "X_train, X_test, y_train, y_test = train_test_split(X, y, test_size=0.1, random_state=0)\n",
    "\n",
    "X_train.shape, X_test.shape, y_train.shape, y_test.shape"
   ]
  },
  {
   "cell_type": "markdown",
   "metadata": {},
   "source": [
    "**Visualizing the Data**"
   ]
  },
  {
   "cell_type": "code",
   "execution_count": 10,
   "metadata": {
    "execution": {
     "iopub.execute_input": "2021-09-03T06:12:57.150667Z",
     "iopub.status.busy": "2021-09-03T06:12:57.150335Z",
     "iopub.status.idle": "2021-09-03T06:12:57.642504Z",
     "shell.execute_reply": "2021-09-03T06:12:57.641729Z",
     "shell.execute_reply.started": "2021-09-03T06:12:57.150636Z"
    }
   },
   "outputs": [
    {
     "data": {
      "image/png": "[encoded data removed]",
      "text/plain": [
       "<Figure size 1440x720 with 4 Axes>"
      ]
     },
     "metadata": {
      "needs_background": "light"
     },
     "output_type": "display_data"
    }
   ],
   "source": [
    "X_train__ = X_train.reshape(X_train.shape[0], 28, 28)\n",
    "\n",
    "fig, axis = plt.subplots(1, 4, figsize=(20, 10))\n",
    "for i, ax in enumerate(axis.flat):\n",
    "    ax.imshow(X_train__[i], cmap='binary')\n",
    "    digit = y_train[i].argmax()\n",
    "    ax.set(title = f\"Real Number is {digit}\");"
   ]
  },
  {
   "cell_type": "markdown",
   "metadata": {},
   "source": [
    "\n"
   ]
  },
  {
   "cell_type": "code",
   "execution_count": 11,
   "metadata": {
    "execution": {
     "iopub.execute_input": "2021-09-03T06:13:07.584483Z",
     "iopub.status.busy": "2021-09-03T06:13:07.584126Z",
     "iopub.status.idle": "2021-09-03T06:13:07.815041Z",
     "shell.execute_reply": "2021-09-03T06:13:07.813964Z",
     "shell.execute_reply.started": "2021-09-03T06:13:07.584450Z"
    }
   },
   "outputs": [],
   "source": []
  },
  {
   "cell_type": "code",
   "execution_count": 12,
   "metadata": {
    "execution": {
     "iopub.execute_input": "2021-09-03T06:13:10.694798Z",
     "iopub.status.busy": "2021-09-03T06:13:10.694480Z",
     "iopub.status.idle": "2021-09-03T06:13:10.698843Z",
     "shell.execute_reply": "2021-09-03T06:13:10.697980Z",
     "shell.execute_reply.started": "2021-09-03T06:13:10.694767Z"
    }
   },
   "outputs": [],
   "source": [
    "epochs = 50\n",
    "batch_size = 64"
   ]
  },
  {
   "cell_type": "markdown",
   "metadata": {},
   "source": [
    "# 3. Convolutional Neural Network\n",
    "\n",
    "## 3.1 Defining the model\n",
    "\n",
    "This uses a Keras Sequential API to create a CNN, we start from the input and add the layers one by one.\n",
    "\n",
    "The first layer is the convolutional (Conv2D) layer. We choose 32 filters for the first-two conv2D layers and 64 filters for the second-two layers and 128 filters for third-two layers and 256 for the last one. Each filter transforms a part of the image as defined by the kernel size using the kernel filter. The kernel filter matrix is applied on the whole image. Filters can be seen as a transformation of the image.\n",
    "\n",
    "The CNN can isolate features that are useful everywhere from these transformed images (feature maps).\n",
    "\n",
    "The second important layer in CNN is the pooling (MaxPool2D) layer. This layer simply acts as a downsampling filter. It looks at the 2 neighboring pixels and picks the maximal value. These are used to reduce computational cost, and to some extent also reduce overfitting.\n",
    "\n",
    "Combining convolutional and pooling layers, CNN is able to combine local features and learn more global features of the image.\n",
    "\n",
    "'relu' is the rectifier (activation function max(0,x)). The rectifier activation function is used to add non linearity to the network.\n",
    "\n",
    "The Flatten layer is used to convert the final feature maps into a single 1D vector. This flattening step is needed so that we can make use of fully connected layers after some convolutional/maxpool layers. It combines all the found local features of the previous convolutional layers.\n",
    "\n",
    "In the end we use the features in two fully-connected (Dense) layers which is just an artificial neural networks (ANN) classifier. In the last layer(Dense(10,activation=\"softmax\")) the net outputs distribution of probability of each class i.e. [0,0,0.98,0,0,0,0,0,0,0]"
   ]
  },
  {
   "cell_type": "markdown",
   "metadata": {},
   "source": [
    "**Model Definition**"
   ]
  },
  {
   "cell_type": "code",
   "execution_count": 13,
   "metadata": {
    "execution": {
     "iopub.execute_input": "2021-09-03T06:35:19.051495Z",
     "iopub.status.busy": "2021-09-03T06:35:19.051173Z",
     "iopub.status.idle": "2021-09-03T06:35:19.170190Z",
     "shell.execute_reply": "2021-09-03T06:35:19.169296Z",
     "shell.execute_reply.started": "2021-09-03T06:35:19.051465Z"
    }
   },
   "outputs": [],
   "source": [
    "model=Sequential()\n",
    "\n",
    " \n",
    "model.add(Conv2D(filters=64, kernel_size = (3,3), activation=\"relu\", input_shape=(28,28,1)))\n",
    "model.add(Conv2D(filters=64, kernel_size = (3,3), activation=\"relu\"))\n",
    "\n",
    "model.add(MaxPooling2D(pool_size=(2,2)))\n",
    "model.add(BatchNormalization())\n",
    "model.add(Conv2D(filters=128, kernel_size = (3,3), activation=\"relu\"))\n",
    "model.add(Conv2D(filters=128, kernel_size = (3,3), activation=\"relu\"))\n",
    "\n",
    "model.add(MaxPooling2D(pool_size=(2,2)))\n",
    "model.add(BatchNormalization())    \n",
    "model.add(Conv2D(filters=256, kernel_size = (3,3), activation=\"relu\"))\n",
    "\n",
    "model.add(MaxPooling2D(pool_size=(2,2)))\n",
    "\n",
    "model.add(Flatten())\n",
    "model.add(BatchNormalization())\n",
    "model.add(Dense(512,activation=\"relu\"))\n",
    "\n",
    "model.add(Dense(10,activation=\"softmax\"))\n",
    "\n",
    "model.compile(loss=\"categorical_crossentropy\", optimizer=\"adam\", metrics=[\"accuracy\"])"
   ]
  },
  {
   "cell_type": "markdown",
   "metadata": {},
   "source": [
    "## Model Summary"
   ]
  },
  {
   "cell_type": "code",
   "execution_count": 14,
   "metadata": {
    "execution": {
     "iopub.execute_input": "2021-09-03T06:35:25.003278Z",
     "iopub.status.busy": "2021-09-03T06:35:25.002938Z",
     "iopub.status.idle": "2021-09-03T06:35:25.016331Z",
     "shell.execute_reply": "2021-09-03T06:35:25.015428Z",
     "shell.execute_reply.started": "2021-09-03T06:35:25.003248Z"
    }
   },
   "outputs": [
    {
     "name": "stdout",
     "output_type": "stream",
     "text": [
      "Model: \"sequential\"\n",
      "_________________________________________________________________\n",
      "Layer (type)                 Output Shape              Param #   \n",
      "=================================================================\n",
      "conv2d (Conv2D)              (None, 26, 26, 64)        640       \n",
      "_________________________________________________________________\n",
      "conv2d_1 (Conv2D)            (None, 24, 24, 64)        36928     \n",
      "_________________________________________________________________\n",
      "max_pooling2d (MaxPooling2D) (None, 12, 12, 64)        0         \n",
      "_________________________________________________________________\n",
      "batch_normalization (BatchNo (None, 12, 12, 64)        256       \n",
      "_________________________________________________________________\n",
      "conv2d_2 (Conv2D)            (None, 10, 10, 128)       73856     \n",
      "_________________________________________________________________\n",
      "conv2d_3 (Conv2D)            (None, 8, 8, 128)         147584    \n",
      "_________________________________________________________________\n",
      "max_pooling2d_1 (MaxPooling2 (None, 4, 4, 128)         0         \n",
      "_________________________________________________________________\n",
      "batch_normalization_1 (Batch (None, 4, 4, 128)         512       \n",
      "_________________________________________________________________\n",
      "conv2d_4 (Conv2D)            (None, 2, 2, 256)         295168    \n",
      "_________________________________________________________________\n",
      "max_pooling2d_2 (MaxPooling2 (None, 1, 1, 256)         0         \n",
      "_________________________________________________________________\n",
      "flatten (Flatten)            (None, 256)               0         \n",
      "_________________________________________________________________\n",
      "batch_normalization_2 (Batch (None, 256)               1024      \n",
      "_________________________________________________________________\n",
      "dense (Dense)                (None, 512)               131584    \n",
      "_________________________________________________________________\n",
      "dense_1 (Dense)              (None, 10)                5130      \n",
      "=================================================================\n",
      "Total params: 692,682\n",
      "Trainable params: 691,786\n",
      "Non-trainable params: 896\n",
      "_________________________________________________________________\n"
     ]
    }
   ],
   "source": [
    "model.summary()"
   ]
  },
  {
   "cell_type": "markdown",
   "metadata": {},
   "source": [
    "## 3.2 Augmenting the data\n",
    "\n",
    "This step was necessary because we are dealing with the user input, the user is free to draw anything he wants, so the drawing of the digits might not always be in perfect orientation. Hence we need to train the model for handiling such situations\n",
    "\n",
    "I found out the following data augmentation techniques that are frequently used by people for further improving the accurary of their models.\n",
    "\n",
    "The improvement:\n",
    " - Without data augmentation, Accuracy:  98.114%\n",
    " - With data augmentation, Accuracy:  99.77% \n"
   ]
  },
  {
   "cell_type": "code",
   "execution_count": 19,
   "metadata": {
    "execution": {
     "iopub.execute_input": "2021-09-03T06:35:29.908649Z",
     "iopub.status.busy": "2021-09-03T06:35:29.908330Z",
     "iopub.status.idle": "2021-09-03T06:35:29.989597Z",
     "shell.execute_reply": "2021-09-03T06:35:29.988813Z",
     "shell.execute_reply.started": "2021-09-03T06:35:29.908617Z"
    }
   },
   "outputs": [],
   "source": [
    "datagen = ImageDataGenerator(\n",
    "        featurewise_center=False,  # set input mean to 0 over the dataset\n",
    "        samplewise_center=False,  # set each sample mean to 0\n",
    "        featurewise_std_normalization=False,  # divide inputs by std of the dataset\n",
    "        samplewise_std_normalization=False,  # divide each input by its std\n",
    "        zca_whitening=False,  # apply ZCA whitening\n",
    "        rotation_range=10,  # randomly rotate images in the range (degrees, 0 to 180)\n",
    "        zoom_range = 0.1, # Randomly zoom image \n",
    "        width_shift_range=0.1,  # randomly shift images horizontally (fraction of total width)\n",
    "        height_shift_range=0.1,  # randomly shift images vertically (fraction of total height)\n",
    "        horizontal_flip=False,  # randomly flip images\n",
    "        vertical_flip=False)  # randomly flip images\n",
    "\n",
    "train_gen = datagen.flow(X_train, y_train, batch_size=batch_size)\n",
    "test_gen = datagen.flow(X_test, y_test, batch_size=batch_size)"
   ]
  },
  {
   "cell_type": "markdown",
   "metadata": {},
   "source": [
    "## 3.3 Model Training"
   ]
  },
  {
   "cell_type": "code",
   "execution_count": 20,
   "metadata": {
    "execution": {
     "iopub.execute_input": "2021-09-03T06:35:32.778640Z",
     "iopub.status.busy": "2021-09-03T06:35:32.778323Z",
     "iopub.status.idle": "2021-09-03T06:36:10.460143Z",
     "shell.execute_reply": "2021-09-03T06:36:10.459423Z",
     "shell.execute_reply.started": "2021-09-03T06:35:32.778609Z"
    }
   },
   "outputs": [
    {
     "name": "stdout",
     "output_type": "stream",
     "text": [
      "Epoch 1/50\n",
      "590/590 [==============================] - 8s 14ms/step - loss: 0.0397 - accuracy: 0.9881 - val_loss: 0.0491 - val_accuracy: 0.9837\n",
      "Epoch 2/50\n",
      "590/590 [==============================] - 8s 14ms/step - loss: 0.0391 - accuracy: 0.9885 - val_loss: 0.0588 - val_accuracy: 0.9812\n",
      "Epoch 3/50\n",
      "590/590 [==============================] - 8s 14ms/step - loss: 0.0357 - accuracy: 0.9884 - val_loss: 0.0621 - val_accuracy: 0.9846\n",
      "Epoch 4/50\n",
      "590/590 [==============================] - 9s 15ms/step - loss: 0.0346 - accuracy: 0.9902 - val_loss: 0.0301 - val_accuracy: 0.9906\n",
      "Epoch 5/50\n",
      "590/590 [==============================] - 8s 14ms/step - loss: 0.0336 - accuracy: 0.9897 - val_loss: 0.0338 - val_accuracy: 0.9882\n",
      "Epoch 6/50\n",
      "590/590 [==============================] - 9s 15ms/step - loss: 0.0304 - accuracy: 0.9911 - val_loss: 0.0289 - val_accuracy: 0.9911\n",
      "Epoch 7/50\n",
      "590/590 [==============================] - 8s 14ms/step - loss: 0.0272 - accuracy: 0.9920 - val_loss: 0.0395 - val_accuracy: 0.9887\n",
      "Epoch 8/50\n",
      "590/590 [==============================] - 9s 15ms/step - loss: 0.0261 - accuracy: 0.9922 - val_loss: 0.0346 - val_accuracy: 0.9894\n",
      "Epoch 9/50\n",
      "590/590 [==============================] - 8s 14ms/step - loss: 0.0286 - accuracy: 0.9911 - val_loss: 0.0398 - val_accuracy: 0.9899\n",
      "Epoch 10/50\n",
      "590/590 [==============================] - 8s 14ms/step - loss: 0.0244 - accuracy: 0.9927 - val_loss: 0.0461 - val_accuracy: 0.9853\n",
      "Epoch 11/50\n",
      "590/590 [==============================] - 9s 14ms/step - loss: 0.0231 - accuracy: 0.9934 - val_loss: 0.0310 - val_accuracy: 0.9913\n",
      "Epoch 12/50\n",
      "590/590 [==============================] - 9s 15ms/step - loss: 0.0216 - accuracy: 0.9936 - val_loss: 0.0440 - val_accuracy: 0.9882\n",
      "Epoch 13/50\n",
      "590/590 [==============================] - 9s 15ms/step - loss: 0.0222 - accuracy: 0.9933 - val_loss: 0.0362 - val_accuracy: 0.9897\n",
      "Epoch 14/50\n",
      "590/590 [==============================] - 9s 16ms/step - loss: 0.0202 - accuracy: 0.9940 - val_loss: 0.0357 - val_accuracy: 0.9904\n",
      "Epoch 15/50\n",
      "590/590 [==============================] - 9s 15ms/step - loss: 0.0195 - accuracy: 0.9938 - val_loss: 0.0361 - val_accuracy: 0.9901\n",
      "Epoch 16/50\n",
      "590/590 [==============================] - 9s 15ms/step - loss: 0.0170 - accuracy: 0.9942 - val_loss: 0.0274 - val_accuracy: 0.9937\n",
      "Epoch 17/50\n",
      "590/590 [==============================] - 9s 15ms/step - loss: 0.0185 - accuracy: 0.9942 - val_loss: 0.0277 - val_accuracy: 0.9928\n",
      "Epoch 18/50\n",
      "590/590 [==============================] - 10s 16ms/step - loss: 0.0195 - accuracy: 0.9944 - val_loss: 0.0260 - val_accuracy: 0.9930\n",
      "Epoch 19/50\n",
      "590/590 [==============================] - 9s 16ms/step - loss: 0.0172 - accuracy: 0.9948 - val_loss: 0.0331 - val_accuracy: 0.9928\n",
      "Epoch 20/50\n",
      "590/590 [==============================] - 10s 16ms/step - loss: 0.0169 - accuracy: 0.9948 - val_loss: 0.0313 - val_accuracy: 0.9904\n",
      "Epoch 21/50\n",
      "590/590 [==============================] - 8s 14ms/step - loss: 0.0139 - accuracy: 0.9958 - val_loss: 0.0219 - val_accuracy: 0.9940\n",
      "Epoch 22/50\n",
      "590/590 [==============================] - 8s 14ms/step - loss: 0.0145 - accuracy: 0.9956 - val_loss: 0.0247 - val_accuracy: 0.9933\n",
      "Epoch 23/50\n",
      "590/590 [==============================] - 8s 14ms/step - loss: 0.0156 - accuracy: 0.9955 - val_loss: 0.0409 - val_accuracy: 0.9889\n",
      "Epoch 24/50\n",
      "590/590 [==============================] - 9s 15ms/step - loss: 0.0154 - accuracy: 0.9955 - val_loss: 0.0331 - val_accuracy: 0.9906\n",
      "Epoch 25/50\n",
      "590/590 [==============================] - 8s 13ms/step - loss: 0.0147 - accuracy: 0.9953 - val_loss: 0.0302 - val_accuracy: 0.9925\n",
      "Epoch 26/50\n",
      "590/590 [==============================] - 9s 15ms/step - loss: 0.0141 - accuracy: 0.9958 - val_loss: 0.0309 - val_accuracy: 0.9918\n",
      "Epoch 27/50\n",
      "590/590 [==============================] - 8s 14ms/step - loss: 0.0120 - accuracy: 0.9965 - val_loss: 0.0380 - val_accuracy: 0.9899\n",
      "Epoch 28/50\n",
      "590/590 [==============================] - 9s 15ms/step - loss: 0.0126 - accuracy: 0.9965 - val_loss: 0.0382 - val_accuracy: 0.9897\n",
      "Epoch 29/50\n",
      "590/590 [==============================] - 8s 14ms/step - loss: 0.0124 - accuracy: 0.9961 - val_loss: 0.0362 - val_accuracy: 0.9909\n",
      "Epoch 30/50\n",
      "590/590 [==============================] - 9s 15ms/step - loss: 0.0129 - accuracy: 0.9958 - val_loss: 0.0218 - val_accuracy: 0.9937\n",
      "Epoch 31/50\n",
      "590/590 [==============================] - 8s 14ms/step - loss: 0.0126 - accuracy: 0.9961 - val_loss: 0.0321 - val_accuracy: 0.9904\n",
      "Epoch 32/50\n",
      "590/590 [==============================] - 9s 15ms/step - loss: 0.0128 - accuracy: 0.9960 - val_loss: 0.0362 - val_accuracy: 0.9892\n",
      "Epoch 33/50\n",
      "590/590 [==============================] - 8s 13ms/step - loss: 0.0134 - accuracy: 0.9959 - val_loss: 0.0343 - val_accuracy: 0.9904\n",
      "Epoch 34/50\n",
      "590/590 [==============================] - 8s 14ms/step - loss: 0.0121 - accuracy: 0.9962 - val_loss: 0.0323 - val_accuracy: 0.9918\n",
      "Epoch 35/50\n",
      "590/590 [==============================] - 8s 14ms/step - loss: 0.0109 - accuracy: 0.9970 - val_loss: 0.0300 - val_accuracy: 0.9923\n",
      "Epoch 36/50\n",
      "590/590 [==============================] - 9s 15ms/step - loss: 0.0081 - accuracy: 0.9973 - val_loss: 0.0270 - val_accuracy: 0.9928\n",
      "Epoch 37/50\n",
      "590/590 [==============================] - 8s 14ms/step - loss: 0.0105 - accuracy: 0.9969 - val_loss: 0.0293 - val_accuracy: 0.9928\n",
      "Epoch 38/50\n",
      "590/590 [==============================] - 8s 14ms/step - loss: 0.0108 - accuracy: 0.9968 - val_loss: 0.0237 - val_accuracy: 0.9940\n",
      "Epoch 39/50\n",
      "590/590 [==============================] - 8s 13ms/step - loss: 0.0102 - accuracy: 0.9967 - val_loss: 0.0278 - val_accuracy: 0.9921\n",
      "Epoch 40/50\n",
      "590/590 [==============================] - 9s 15ms/step - loss: 0.0093 - accuracy: 0.9971 - val_loss: 0.0354 - val_accuracy: 0.9918\n",
      "Epoch 41/50\n",
      "590/590 [==============================] - 8s 13ms/step - loss: 0.0088 - accuracy: 0.9973 - val_loss: 0.0430 - val_accuracy: 0.9906\n",
      "Epoch 42/50\n",
      "590/590 [==============================] - 8s 14ms/step - loss: 0.0104 - accuracy: 0.9970 - val_loss: 0.0363 - val_accuracy: 0.9911\n",
      "Epoch 43/50\n",
      "590/590 [==============================] - 8s 13ms/step - loss: 0.0113 - accuracy: 0.9970 - val_loss: 0.0356 - val_accuracy: 0.9923\n",
      "Epoch 44/50\n",
      "590/590 [==============================] - 9s 14ms/step - loss: 0.0086 - accuracy: 0.9971 - val_loss: 0.0365 - val_accuracy: 0.9918\n",
      "Epoch 45/50\n",
      "590/590 [==============================] - 8s 13ms/step - loss: 0.0083 - accuracy: 0.9973 - val_loss: 0.0288 - val_accuracy: 0.9937\n",
      "Epoch 46/50\n",
      "590/590 [==============================] - 8s 14ms/step - loss: 0.0100 - accuracy: 0.9971 - val_loss: 0.0319 - val_accuracy: 0.9940\n",
      "Epoch 47/50\n",
      "590/590 [==============================] - 8s 14ms/step - loss: 0.0092 - accuracy: 0.9970 - val_loss: 0.0298 - val_accuracy: 0.9928\n",
      "Epoch 48/50\n",
      "590/590 [==============================] - 9s 15ms/step - loss: 0.0065 - accuracy: 0.9980 - val_loss: 0.0323 - val_accuracy: 0.9918\n",
      "Epoch 49/50\n",
      "590/590 [==============================] - 8s 13ms/step - loss: 0.0075 - accuracy: 0.9979 - val_loss: 0.0278 - val_accuracy: 0.9923\n",
      "Epoch 50/50\n",
      "590/590 [==============================] - 8s 14ms/step - loss: 0.0083 - accuracy: 0.9977 - val_loss: 0.0328 - val_accuracy: 0.9906\n"
     ]
    }
   ],
   "source": [
    "# Fit the model\n",
    "history = model.fit_generator(train_gen, \n",
    "                              epochs = epochs, \n",
    "                              steps_per_epoch = X_train.shape[0] // batch_size,\n",
    "                              validation_data = test_gen,\n",
    "                              validation_steps = X_test.shape[0] // batch_size)"
   ]
  },
  {
   "cell_type": "code",
   "execution_count": 23,
   "metadata": {
    "execution": {
     "iopub.execute_input": "2021-09-03T06:40:21.134489Z",
     "iopub.status.busy": "2021-09-03T06:40:21.134172Z",
     "iopub.status.idle": "2021-09-03T06:40:23.475464Z",
     "shell.execute_reply": "2021-09-03T06:40:23.474590Z",
     "shell.execute_reply.started": "2021-09-03T06:40:21.134460Z"
    }
   },
   "outputs": [
    {
     "name": "stdout",
     "output_type": "stream",
     "text": [
      "(4200, 28, 28, 1)\n",
      "(4200, 28, 28)\n"
     ]
    },
    {
     "data": {
      "image/png": "[encoded data removed]",
      "text/plain": [
       "<Figure size 864x1008 with 16 Axes>"
      ]
     },
     "metadata": {
      "needs_background": "light"
     },
     "output_type": "display_data"
    }
   ],
   "source": [
    "y_pred = model.predict(X_test)\n",
    "print(X_test.shape)\n",
    "X_test__ = X_test.reshape(X_test.shape[0], 28, 28)\n",
    "print(X_test__.shape)\n",
    "fig, axis = plt.subplots(4, 4, figsize=(12, 14))\n",
    "for i, ax in enumerate(axis.flat):\n",
    "    ax.imshow(X_test__[i], cmap='binary')\n",
    "    ax.set(title = f\"Real Number is {y_test[i].argmax()}\\nPredict Number is {y_pred[i].argmax()}\");"
   ]
  },
  {
   "cell_type": "markdown",
   "metadata": {},
   "source": [
    "# Saving the trained Model"
   ]
  },
  {
   "cell_type": "code",
   "execution_count": 24,
   "metadata": {
    "execution": {
     "iopub.execute_input": "2021-09-03T06:40:54.372796Z",
     "iopub.status.busy": "2021-09-03T06:40:54.372459Z",
     "iopub.status.idle": "2021-09-03T06:40:54.452288Z",
     "shell.execute_reply": "2021-09-03T06:40:54.451479Z",
     "shell.execute_reply.started": "2021-09-03T06:40:54.372764Z"
    }
   },
   "outputs": [],
   "source": [
    "model.save(\"mnist_trained_99.h5\")"
   ]
  },
  {
   "cell_type": "markdown",
   "metadata": {},
   "source": [
    "## Part 1 finishes here(Model Training)"
   ]
  },
  {
   "cell_type": "markdown",
   "metadata": {},
   "source": [
    "`___________________________________________________________________________________________________________`"
   ]
  },
  {
   "cell_type": "markdown",
   "metadata": {},
   "source": [
    "# Part 2 \n",
    "\n",
    "### Using the model to predict the digits"
   ]
  },
  {
   "cell_type": "markdown",
   "metadata": {},
   "source": [
    "### Loading the model from the file\n"
   ]
  },
  {
   "cell_type": "code",
   "execution_count": 25,
   "metadata": {
    "execution": {
     "iopub.execute_input": "2021-09-03T06:41:06.129501Z",
     "iopub.status.busy": "2021-09-03T06:41:06.129193Z",
     "iopub.status.idle": "2021-09-03T06:41:06.346129Z",
     "shell.execute_reply": "2021-09-03T06:41:06.345223Z",
     "shell.execute_reply.started": "2021-09-03T06:41:06.129470Z"
    }
   },
   "outputs": [
    {
     "name": "stdout",
     "output_type": "stream",
     "text": [
      "Model loaded successfully\n"
     ]
    }
   ],
   "source": [
    "import os\n",
    "from keras.models import load_model\n",
    "model = load_model(\"./mnist_trained_99.h5\") # Path where the model is saved.\n",
    "print(\"Model loaded successfully\")"
   ]
  },
  {
   "cell_type": "code",
   "execution_count": 26,
   "metadata": {
    "execution": {
     "iopub.execute_input": "2021-09-03T06:41:07.255548Z",
     "iopub.status.busy": "2021-09-03T06:41:07.255225Z",
     "iopub.status.idle": "2021-09-03T06:41:07.493624Z",
     "shell.execute_reply": "2021-09-03T06:41:07.492904Z",
     "shell.execute_reply.started": "2021-09-03T06:41:07.255518Z"
    }
   },
   "outputs": [],
   "source": [
    "from skimage import color, io\n",
    "from skimage.transform import resize"
   ]
  },
  {
   "cell_type": "code",
   "execution_count": 27,
   "metadata": {},
   "outputs": [],
   "source": [
    "digits_folder = \"handwritten-digits-images\"  # Folder containing the images of handwritten digits\n",
    "images = os.listdir(digits_folder)  # Custom image list"
   ]
  },
  {
   "cell_type": "code",
   "execution_count": 28,
   "metadata": {},
   "outputs": [
    {
     "name": "stderr",
     "output_type": "stream",
     "text": [
      "D:\\Programs\\Anaconda\\envs\\ML\\lib\\site-packages\\ipykernel_launcher.py:2: FutureWarning: Non RGB image conversion is now deprecated. For RGBA images, please use rgb2gray(rgba2rgb(rgb)) instead. In version 0.19, a ValueError will be raised if input image last dimension length is not 3.\n",
      "  \n"
     ]
    },
    {
     "data": {
      "image/png": "[encoded data removed]",
      "text/plain": [
       "<Figure size 432x288 with 1 Axes>"
      ]
     },
     "metadata": {
      "needs_background": "light"
     },
     "output_type": "display_data"
    },
    {
     "data": {
      "text/plain": [
       "<Figure size 432x288 with 0 Axes>"
      ]
     },
     "metadata": {},
     "output_type": "display_data"
    }
   ],
   "source": [
    "image = io.imread(digits_folder + \"/\" + images[0])\n",
    "image = color.rgb2gray(image)\n",
    "# image_resized = resize(image, (28, 28, 1))\n",
    "final = np.array(image)\n",
    "# final = np.expand_dims(final, axis=0)\n",
    "plt.imshow(final, cmap='binary')\n",
    "plt.show()\n",
    "plt.savefig('num1.png')"
   ]
  },
  {
   "cell_type": "markdown",
   "metadata": {},
   "source": [
    "# Using the model to predict our custom handwritten digits"
   ]
  },
  {
   "cell_type": "code",
   "execution_count": 29,
   "metadata": {
    "execution": {
     "iopub.execute_input": "2021-09-03T06:41:08.795969Z",
     "iopub.status.busy": "2021-09-03T06:41:08.795608Z",
     "iopub.status.idle": "2021-09-03T06:41:11.278692Z",
     "shell.execute_reply": "2021-09-03T06:41:11.277995Z",
     "shell.execute_reply.started": "2021-09-03T06:41:08.795933Z"
    }
   },
   "outputs": [
    {
     "name": "stderr",
     "output_type": "stream",
     "text": [
      "D:\\Programs\\Anaconda\\envs\\ML\\lib\\site-packages\\ipykernel_launcher.py:5: FutureWarning: Non RGB image conversion is now deprecated. For RGBA images, please use rgb2gray(rgba2rgb(rgb)) instead. In version 0.19, a ValueError will be raised if input image last dimension length is not 3.\n",
      "  \"\"\"\n"
     ]
    },
    {
     "data": {
      "image/png": "[encoded data removed]",
      "text/plain": [
       "<Figure size 864x1008 with 16 Axes>"
      ]
     },
     "metadata": {
      "needs_background": "light"
     },
     "output_type": "display_data"
    }
   ],
   "source": [
    "fig, axis = plt.subplots(4, 4, figsize=(12, 14))\n",
    "for i, ax in enumerate(axis.flat):\n",
    "    image = io.imread(digits_folder + \"/\" + images[i])\n",
    "    ax.imshow(image, cmap='binary')\n",
    "    image = color.rgb2gray(image)\n",
    "    image_resized = resize(image, (28, 28, 1))\n",
    "    final = 1 - np.array(image_resized)\n",
    "    final = np.expand_dims(final, axis=0)\n",
    "    answer = model.predict(final)\n",
    "    ret_val = answer.argmax()\n",
    "    ax.set(title = f\"Predicted number: {ret_val}\");\n"
   ]
  }
 ],
 "metadata": {
  "kernelspec": {
   "display_name": "Python 3",
   "language": "python",
   "name": "python3"
  },
  "language_info": {
   "codemirror_mode": {
    "name": "ipython",
    "version": 3
   },
   "file_extension": ".py",
   "mimetype": "text/x-python",
   "name": "python",
   "nbconvert_exporter": "python",
   "pygments_lexer": "ipython3",
   "version": "3.6.13"
  }
 },
 "nbformat": 4,
 "nbformat_minor": 4
}
